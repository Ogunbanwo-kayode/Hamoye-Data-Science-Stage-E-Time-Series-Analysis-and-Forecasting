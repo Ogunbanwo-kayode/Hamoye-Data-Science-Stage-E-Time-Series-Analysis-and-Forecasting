{
 "cells": [
  {
   "cell_type": "code",
   "execution_count": 1,
   "id": "83c29ac1",
   "metadata": {},
   "outputs": [],
   "source": [
    "import pandas as pd\n",
    "import numpy as np\n",
    "import matplotlib.pyplot as plt\n",
    "from prophet import Prophet"
   ]
  },
  {
   "cell_type": "code",
   "execution_count": 4,
   "id": "60c58e79",
   "metadata": {},
   "outputs": [],
   "source": [
    "# import the dataset\n",
    "df = pd.read_csv(\"Time_series_analysis_and_forecast_DATASET.csv\")"
   ]
  },
  {
   "cell_type": "code",
   "execution_count": 5,
   "id": "08f5cbd8",
   "metadata": {},
   "outputs": [
    {
     "data": {
      "text/html": [
       "<div>\n",
       "<style scoped>\n",
       "    .dataframe tbody tr th:only-of-type {\n",
       "        vertical-align: middle;\n",
       "    }\n",
       "\n",
       "    .dataframe tbody tr th {\n",
       "        vertical-align: top;\n",
       "    }\n",
       "\n",
       "    .dataframe thead th {\n",
       "        text-align: right;\n",
       "    }\n",
       "</style>\n",
       "<table border=\"1\" class=\"dataframe\">\n",
       "  <thead>\n",
       "    <tr style=\"text-align: right;\">\n",
       "      <th></th>\n",
       "      <th>FullDate</th>\n",
       "      <th>Tmax</th>\n",
       "      <th>SysLoad</th>\n",
       "      <th>GasPrice</th>\n",
       "      <th>ElecPrice</th>\n",
       "    </tr>\n",
       "  </thead>\n",
       "  <tbody>\n",
       "    <tr>\n",
       "      <th>0</th>\n",
       "      <td>2010-09-01 00:00:00</td>\n",
       "      <td>15.8</td>\n",
       "      <td>1688.215</td>\n",
       "      <td>3.69</td>\n",
       "      <td>23.710</td>\n",
       "    </tr>\n",
       "    <tr>\n",
       "      <th>1</th>\n",
       "      <td>2010-09-01 01:00:00</td>\n",
       "      <td>15.8</td>\n",
       "      <td>1669.195</td>\n",
       "      <td>3.69</td>\n",
       "      <td>22.635</td>\n",
       "    </tr>\n",
       "    <tr>\n",
       "      <th>2</th>\n",
       "      <td>2010-09-01 02:00:00</td>\n",
       "      <td>15.8</td>\n",
       "      <td>1491.980</td>\n",
       "      <td>3.69</td>\n",
       "      <td>22.565</td>\n",
       "    </tr>\n",
       "    <tr>\n",
       "      <th>3</th>\n",
       "      <td>2010-09-01 03:00:00</td>\n",
       "      <td>15.8</td>\n",
       "      <td>1330.760</td>\n",
       "      <td>3.69</td>\n",
       "      <td>18.910</td>\n",
       "    </tr>\n",
       "    <tr>\n",
       "      <th>4</th>\n",
       "      <td>2010-09-01 04:00:00</td>\n",
       "      <td>15.8</td>\n",
       "      <td>1247.940</td>\n",
       "      <td>3.69</td>\n",
       "      <td>18.030</td>\n",
       "    </tr>\n",
       "  </tbody>\n",
       "</table>\n",
       "</div>"
      ],
      "text/plain": [
       "              FullDate  Tmax   SysLoad  GasPrice  ElecPrice\n",
       "0  2010-09-01 00:00:00  15.8  1688.215      3.69     23.710\n",
       "1  2010-09-01 01:00:00  15.8  1669.195      3.69     22.635\n",
       "2  2010-09-01 02:00:00  15.8  1491.980      3.69     22.565\n",
       "3  2010-09-01 03:00:00  15.8  1330.760      3.69     18.910\n",
       "4  2010-09-01 04:00:00  15.8  1247.940      3.69     18.030"
      ]
     },
     "execution_count": 5,
     "metadata": {},
     "output_type": "execute_result"
    }
   ],
   "source": [
    "# print the first five records\n",
    "df.head()"
   ]
  },
  {
   "cell_type": "code",
   "execution_count": 6,
   "id": "6c2299f5",
   "metadata": {},
   "outputs": [
    {
     "data": {
      "text/plain": [
       "(92016, 5)"
      ]
     },
     "execution_count": 6,
     "metadata": {},
     "output_type": "execute_result"
    }
   ],
   "source": [
    "# print the shape of the dataframe\n",
    "df.shape"
   ]
  },
  {
   "cell_type": "code",
   "execution_count": 7,
   "id": "83fc7096",
   "metadata": {},
   "outputs": [
    {
     "data": {
      "text/plain": [
       "FullDate      object\n",
       "Tmax         float64\n",
       "SysLoad      float64\n",
       "GasPrice     float64\n",
       "ElecPrice    float64\n",
       "dtype: object"
      ]
     },
     "execution_count": 7,
     "metadata": {},
     "output_type": "execute_result"
    }
   ],
   "source": [
    "# print each column datatypes\n",
    "df.dtypes"
   ]
  },
  {
   "cell_type": "code",
   "execution_count": 8,
   "id": "b2971f19",
   "metadata": {},
   "outputs": [
    {
     "data": {
      "text/plain": [
       "False"
      ]
     },
     "execution_count": 8,
     "metadata": {},
     "output_type": "execute_result"
    }
   ],
   "source": [
    "# Check for missing data\n",
    "df.isnull().values.any()"
   ]
  },
  {
   "cell_type": "code",
   "execution_count": 9,
   "id": "916a0d5d",
   "metadata": {},
   "outputs": [
    {
     "data": {
      "text/plain": [
       "FullDate     0\n",
       "Tmax         0\n",
       "SysLoad      0\n",
       "GasPrice     0\n",
       "ElecPrice    0\n",
       "dtype: int64"
      ]
     },
     "execution_count": 9,
     "metadata": {},
     "output_type": "execute_result"
    }
   ],
   "source": [
    "df.isnull().sum()"
   ]
  },
  {
   "cell_type": "markdown",
   "id": "27243867",
   "metadata": {},
   "source": [
    "# Data Wrangling and Preprocessing"
   ]
  },
  {
   "cell_type": "code",
   "execution_count": 10,
   "id": "0043611e",
   "metadata": {},
   "outputs": [],
   "source": [
    "# let convert the FullDate column into a datatime object\n",
    "df[\"FullDate\"] = pd.to_datetime(df[\"FullDate\"])"
   ]
  },
  {
   "cell_type": "code",
   "execution_count": 11,
   "id": "f5c43a9e",
   "metadata": {},
   "outputs": [
    {
     "data": {
      "text/html": [
       "<div>\n",
       "<style scoped>\n",
       "    .dataframe tbody tr th:only-of-type {\n",
       "        vertical-align: middle;\n",
       "    }\n",
       "\n",
       "    .dataframe tbody tr th {\n",
       "        vertical-align: top;\n",
       "    }\n",
       "\n",
       "    .dataframe thead th {\n",
       "        text-align: right;\n",
       "    }\n",
       "</style>\n",
       "<table border=\"1\" class=\"dataframe\">\n",
       "  <thead>\n",
       "    <tr style=\"text-align: right;\">\n",
       "      <th></th>\n",
       "      <th>FullDate</th>\n",
       "      <th>Tmax</th>\n",
       "      <th>SysLoad</th>\n",
       "      <th>GasPrice</th>\n",
       "      <th>ElecPrice</th>\n",
       "    </tr>\n",
       "  </thead>\n",
       "  <tbody>\n",
       "    <tr>\n",
       "      <th>0</th>\n",
       "      <td>2010-09-01 00:00:00</td>\n",
       "      <td>15.8</td>\n",
       "      <td>1688.215</td>\n",
       "      <td>3.69</td>\n",
       "      <td>23.710</td>\n",
       "    </tr>\n",
       "    <tr>\n",
       "      <th>1</th>\n",
       "      <td>2010-09-01 01:00:00</td>\n",
       "      <td>15.8</td>\n",
       "      <td>1669.195</td>\n",
       "      <td>3.69</td>\n",
       "      <td>22.635</td>\n",
       "    </tr>\n",
       "    <tr>\n",
       "      <th>2</th>\n",
       "      <td>2010-09-01 02:00:00</td>\n",
       "      <td>15.8</td>\n",
       "      <td>1491.980</td>\n",
       "      <td>3.69</td>\n",
       "      <td>22.565</td>\n",
       "    </tr>\n",
       "    <tr>\n",
       "      <th>3</th>\n",
       "      <td>2010-09-01 03:00:00</td>\n",
       "      <td>15.8</td>\n",
       "      <td>1330.760</td>\n",
       "      <td>3.69</td>\n",
       "      <td>18.910</td>\n",
       "    </tr>\n",
       "    <tr>\n",
       "      <th>4</th>\n",
       "      <td>2010-09-01 04:00:00</td>\n",
       "      <td>15.8</td>\n",
       "      <td>1247.940</td>\n",
       "      <td>3.69</td>\n",
       "      <td>18.030</td>\n",
       "    </tr>\n",
       "  </tbody>\n",
       "</table>\n",
       "</div>"
      ],
      "text/plain": [
       "             FullDate  Tmax   SysLoad  GasPrice  ElecPrice\n",
       "0 2010-09-01 00:00:00  15.8  1688.215      3.69     23.710\n",
       "1 2010-09-01 01:00:00  15.8  1669.195      3.69     22.635\n",
       "2 2010-09-01 02:00:00  15.8  1491.980      3.69     22.565\n",
       "3 2010-09-01 03:00:00  15.8  1330.760      3.69     18.910\n",
       "4 2010-09-01 04:00:00  15.8  1247.940      3.69     18.030"
      ]
     },
     "execution_count": 11,
     "metadata": {},
     "output_type": "execute_result"
    }
   ],
   "source": [
    "# Let print the head of the dataframe\n",
    "df.head()"
   ]
  },
  {
   "cell_type": "code",
   "execution_count": 12,
   "id": "584efc2a",
   "metadata": {},
   "outputs": [
    {
     "data": {
      "text/plain": [
       "FullDate     datetime64[ns]\n",
       "Tmax                float64\n",
       "SysLoad             float64\n",
       "GasPrice            float64\n",
       "ElecPrice           float64\n",
       "dtype: object"
      ]
     },
     "execution_count": 12,
     "metadata": {},
     "output_type": "execute_result"
    }
   ],
   "source": [
    "# Let print the datatype in each column again\n",
    "df.dtypes"
   ]
  },
  {
   "cell_type": "markdown",
   "id": "13b41d45",
   "metadata": {},
   "source": [
    "Awesome!!! We have successfully converted the FullDate column into a pandas datetime object."
   ]
  },
  {
   "cell_type": "code",
   "execution_count": 13,
   "id": "40d1e54b",
   "metadata": {},
   "outputs": [],
   "source": [
    "# Let set the FullDate column as the index\n",
    "df.set_index(\"FullDate\", inplace=True)"
   ]
  },
  {
   "cell_type": "code",
   "execution_count": 14,
   "id": "09df198a",
   "metadata": {},
   "outputs": [
    {
     "data": {
      "text/html": [
       "<div>\n",
       "<style scoped>\n",
       "    .dataframe tbody tr th:only-of-type {\n",
       "        vertical-align: middle;\n",
       "    }\n",
       "\n",
       "    .dataframe tbody tr th {\n",
       "        vertical-align: top;\n",
       "    }\n",
       "\n",
       "    .dataframe thead th {\n",
       "        text-align: right;\n",
       "    }\n",
       "</style>\n",
       "<table border=\"1\" class=\"dataframe\">\n",
       "  <thead>\n",
       "    <tr style=\"text-align: right;\">\n",
       "      <th></th>\n",
       "      <th>Tmax</th>\n",
       "      <th>SysLoad</th>\n",
       "      <th>GasPrice</th>\n",
       "      <th>ElecPrice</th>\n",
       "    </tr>\n",
       "    <tr>\n",
       "      <th>FullDate</th>\n",
       "      <th></th>\n",
       "      <th></th>\n",
       "      <th></th>\n",
       "      <th></th>\n",
       "    </tr>\n",
       "  </thead>\n",
       "  <tbody>\n",
       "    <tr>\n",
       "      <th>2010-09-01 00:00:00</th>\n",
       "      <td>15.8</td>\n",
       "      <td>1688.215</td>\n",
       "      <td>3.69</td>\n",
       "      <td>23.710</td>\n",
       "    </tr>\n",
       "    <tr>\n",
       "      <th>2010-09-01 01:00:00</th>\n",
       "      <td>15.8</td>\n",
       "      <td>1669.195</td>\n",
       "      <td>3.69</td>\n",
       "      <td>22.635</td>\n",
       "    </tr>\n",
       "    <tr>\n",
       "      <th>2010-09-01 02:00:00</th>\n",
       "      <td>15.8</td>\n",
       "      <td>1491.980</td>\n",
       "      <td>3.69</td>\n",
       "      <td>22.565</td>\n",
       "    </tr>\n",
       "    <tr>\n",
       "      <th>2010-09-01 03:00:00</th>\n",
       "      <td>15.8</td>\n",
       "      <td>1330.760</td>\n",
       "      <td>3.69</td>\n",
       "      <td>18.910</td>\n",
       "    </tr>\n",
       "    <tr>\n",
       "      <th>2010-09-01 04:00:00</th>\n",
       "      <td>15.8</td>\n",
       "      <td>1247.940</td>\n",
       "      <td>3.69</td>\n",
       "      <td>18.030</td>\n",
       "    </tr>\n",
       "  </tbody>\n",
       "</table>\n",
       "</div>"
      ],
      "text/plain": [
       "                     Tmax   SysLoad  GasPrice  ElecPrice\n",
       "FullDate                                                \n",
       "2010-09-01 00:00:00  15.8  1688.215      3.69     23.710\n",
       "2010-09-01 01:00:00  15.8  1669.195      3.69     22.635\n",
       "2010-09-01 02:00:00  15.8  1491.980      3.69     22.565\n",
       "2010-09-01 03:00:00  15.8  1330.760      3.69     18.910\n",
       "2010-09-01 04:00:00  15.8  1247.940      3.69     18.030"
      ]
     },
     "execution_count": 14,
     "metadata": {},
     "output_type": "execute_result"
    }
   ],
   "source": [
    "df.head()"
   ]
  },
  {
   "cell_type": "code",
   "execution_count": 15,
   "id": "5b8a59f4",
   "metadata": {},
   "outputs": [],
   "source": [
    "# Let sample the data by daily\n",
    "df_daily = df.resample(\"D\").sum()"
   ]
  },
  {
   "cell_type": "code",
   "execution_count": 16,
   "id": "6a1d7892",
   "metadata": {},
   "outputs": [
    {
     "data": {
      "text/plain": [
       "(3834, 4)"
      ]
     },
     "execution_count": 16,
     "metadata": {},
     "output_type": "execute_result"
    }
   ],
   "source": [
    "# Print the shape of the sampled dataframe\n",
    "df_daily.shape"
   ]
  },
  {
   "cell_type": "code",
   "execution_count": 18,
   "id": "ed8d349c",
   "metadata": {},
   "outputs": [
    {
     "data": {
      "text/html": [
       "<div>\n",
       "<style scoped>\n",
       "    .dataframe tbody tr th:only-of-type {\n",
       "        vertical-align: middle;\n",
       "    }\n",
       "\n",
       "    .dataframe tbody tr th {\n",
       "        vertical-align: top;\n",
       "    }\n",
       "\n",
       "    .dataframe thead th {\n",
       "        text-align: right;\n",
       "    }\n",
       "</style>\n",
       "<table border=\"1\" class=\"dataframe\">\n",
       "  <thead>\n",
       "    <tr style=\"text-align: right;\">\n",
       "      <th></th>\n",
       "      <th>Tmax</th>\n",
       "      <th>SysLoad</th>\n",
       "      <th>GasPrice</th>\n",
       "      <th>ElecPrice</th>\n",
       "    </tr>\n",
       "    <tr>\n",
       "      <th>FullDate</th>\n",
       "      <th></th>\n",
       "      <th></th>\n",
       "      <th></th>\n",
       "      <th></th>\n",
       "    </tr>\n",
       "  </thead>\n",
       "  <tbody>\n",
       "    <tr>\n",
       "      <th>2010-09-01</th>\n",
       "      <td>379.2</td>\n",
       "      <td>41565.380</td>\n",
       "      <td>88.56</td>\n",
       "      <td>2751.700</td>\n",
       "    </tr>\n",
       "    <tr>\n",
       "      <th>2010-09-02</th>\n",
       "      <td>369.6</td>\n",
       "      <td>38898.990</td>\n",
       "      <td>88.56</td>\n",
       "      <td>570.810</td>\n",
       "    </tr>\n",
       "    <tr>\n",
       "      <th>2010-09-03</th>\n",
       "      <td>439.2</td>\n",
       "      <td>41665.760</td>\n",
       "      <td>106.80</td>\n",
       "      <td>504.975</td>\n",
       "    </tr>\n",
       "    <tr>\n",
       "      <th>2010-09-04</th>\n",
       "      <td>328.8</td>\n",
       "      <td>35638.085</td>\n",
       "      <td>81.36</td>\n",
       "      <td>502.275</td>\n",
       "    </tr>\n",
       "    <tr>\n",
       "      <th>2010-09-05</th>\n",
       "      <td>357.6</td>\n",
       "      <td>35611.410</td>\n",
       "      <td>106.80</td>\n",
       "      <td>500.555</td>\n",
       "    </tr>\n",
       "  </tbody>\n",
       "</table>\n",
       "</div>"
      ],
      "text/plain": [
       "             Tmax    SysLoad  GasPrice  ElecPrice\n",
       "FullDate                                         \n",
       "2010-09-01  379.2  41565.380     88.56   2751.700\n",
       "2010-09-02  369.6  38898.990     88.56    570.810\n",
       "2010-09-03  439.2  41665.760    106.80    504.975\n",
       "2010-09-04  328.8  35638.085     81.36    502.275\n",
       "2010-09-05  357.6  35611.410    106.80    500.555"
      ]
     },
     "execution_count": 18,
     "metadata": {},
     "output_type": "execute_result"
    }
   ],
   "source": [
    "# Let print the head of the sampled dataframe\n",
    "df_daily.head()"
   ]
  },
  {
   "cell_type": "code",
   "execution_count": 19,
   "id": "35b51072",
   "metadata": {},
   "outputs": [],
   "source": [
    "# Let reset the index\n",
    "df_daily = df_daily.reset_index()"
   ]
  },
  {
   "cell_type": "code",
   "execution_count": 20,
   "id": "52d301de",
   "metadata": {},
   "outputs": [
    {
     "data": {
      "text/html": [
       "<div>\n",
       "<style scoped>\n",
       "    .dataframe tbody tr th:only-of-type {\n",
       "        vertical-align: middle;\n",
       "    }\n",
       "\n",
       "    .dataframe tbody tr th {\n",
       "        vertical-align: top;\n",
       "    }\n",
       "\n",
       "    .dataframe thead th {\n",
       "        text-align: right;\n",
       "    }\n",
       "</style>\n",
       "<table border=\"1\" class=\"dataframe\">\n",
       "  <thead>\n",
       "    <tr style=\"text-align: right;\">\n",
       "      <th></th>\n",
       "      <th>FullDate</th>\n",
       "      <th>Tmax</th>\n",
       "      <th>SysLoad</th>\n",
       "      <th>GasPrice</th>\n",
       "      <th>ElecPrice</th>\n",
       "    </tr>\n",
       "  </thead>\n",
       "  <tbody>\n",
       "    <tr>\n",
       "      <th>0</th>\n",
       "      <td>2010-09-01</td>\n",
       "      <td>379.2</td>\n",
       "      <td>41565.380</td>\n",
       "      <td>88.56</td>\n",
       "      <td>2751.700</td>\n",
       "    </tr>\n",
       "    <tr>\n",
       "      <th>1</th>\n",
       "      <td>2010-09-02</td>\n",
       "      <td>369.6</td>\n",
       "      <td>38898.990</td>\n",
       "      <td>88.56</td>\n",
       "      <td>570.810</td>\n",
       "    </tr>\n",
       "    <tr>\n",
       "      <th>2</th>\n",
       "      <td>2010-09-03</td>\n",
       "      <td>439.2</td>\n",
       "      <td>41665.760</td>\n",
       "      <td>106.80</td>\n",
       "      <td>504.975</td>\n",
       "    </tr>\n",
       "    <tr>\n",
       "      <th>3</th>\n",
       "      <td>2010-09-04</td>\n",
       "      <td>328.8</td>\n",
       "      <td>35638.085</td>\n",
       "      <td>81.36</td>\n",
       "      <td>502.275</td>\n",
       "    </tr>\n",
       "    <tr>\n",
       "      <th>4</th>\n",
       "      <td>2010-09-05</td>\n",
       "      <td>357.6</td>\n",
       "      <td>35611.410</td>\n",
       "      <td>106.80</td>\n",
       "      <td>500.555</td>\n",
       "    </tr>\n",
       "  </tbody>\n",
       "</table>\n",
       "</div>"
      ],
      "text/plain": [
       "    FullDate   Tmax    SysLoad  GasPrice  ElecPrice\n",
       "0 2010-09-01  379.2  41565.380     88.56   2751.700\n",
       "1 2010-09-02  369.6  38898.990     88.56    570.810\n",
       "2 2010-09-03  439.2  41665.760    106.80    504.975\n",
       "3 2010-09-04  328.8  35638.085     81.36    502.275\n",
       "4 2010-09-05  357.6  35611.410    106.80    500.555"
      ]
     },
     "execution_count": 20,
     "metadata": {},
     "output_type": "execute_result"
    }
   ],
   "source": [
    "# Let print the head of this dataframe\n",
    "df_daily.head()"
   ]
  },
  {
   "cell_type": "code",
   "execution_count": 21,
   "id": "382e7b2e",
   "metadata": {},
   "outputs": [
    {
     "data": {
      "text/plain": [
       "(3834, 5)"
      ]
     },
     "execution_count": 21,
     "metadata": {},
     "output_type": "execute_result"
    }
   ],
   "source": [
    "df_daily.shape"
   ]
  },
  {
   "cell_type": "code",
   "execution_count": 22,
   "id": "e5c9d23d",
   "metadata": {},
   "outputs": [],
   "source": [
    "# Make a copy of the daily dataframe\n",
    "df_daily_copy = df_daily.copy()"
   ]
  },
  {
   "cell_type": "code",
   "execution_count": 23,
   "id": "961d1467",
   "metadata": {},
   "outputs": [
    {
     "data": {
      "text/plain": [
       "(3834, 5)"
      ]
     },
     "execution_count": 23,
     "metadata": {},
     "output_type": "execute_result"
    }
   ],
   "source": [
    "# Print the shape of the dataframe\n",
    "df_daily_copy.shape"
   ]
  },
  {
   "cell_type": "code",
   "execution_count": 24,
   "id": "ecfe21df",
   "metadata": {},
   "outputs": [
    {
     "data": {
      "text/html": [
       "<div>\n",
       "<style scoped>\n",
       "    .dataframe tbody tr th:only-of-type {\n",
       "        vertical-align: middle;\n",
       "    }\n",
       "\n",
       "    .dataframe tbody tr th {\n",
       "        vertical-align: top;\n",
       "    }\n",
       "\n",
       "    .dataframe thead th {\n",
       "        text-align: right;\n",
       "    }\n",
       "</style>\n",
       "<table border=\"1\" class=\"dataframe\">\n",
       "  <thead>\n",
       "    <tr style=\"text-align: right;\">\n",
       "      <th></th>\n",
       "      <th>FullDate</th>\n",
       "      <th>Tmax</th>\n",
       "      <th>SysLoad</th>\n",
       "      <th>GasPrice</th>\n",
       "      <th>ElecPrice</th>\n",
       "    </tr>\n",
       "  </thead>\n",
       "  <tbody>\n",
       "    <tr>\n",
       "      <th>0</th>\n",
       "      <td>2010-09-01</td>\n",
       "      <td>379.2</td>\n",
       "      <td>41565.380</td>\n",
       "      <td>88.56</td>\n",
       "      <td>2751.700</td>\n",
       "    </tr>\n",
       "    <tr>\n",
       "      <th>1</th>\n",
       "      <td>2010-09-02</td>\n",
       "      <td>369.6</td>\n",
       "      <td>38898.990</td>\n",
       "      <td>88.56</td>\n",
       "      <td>570.810</td>\n",
       "    </tr>\n",
       "    <tr>\n",
       "      <th>2</th>\n",
       "      <td>2010-09-03</td>\n",
       "      <td>439.2</td>\n",
       "      <td>41665.760</td>\n",
       "      <td>106.80</td>\n",
       "      <td>504.975</td>\n",
       "    </tr>\n",
       "    <tr>\n",
       "      <th>3</th>\n",
       "      <td>2010-09-04</td>\n",
       "      <td>328.8</td>\n",
       "      <td>35638.085</td>\n",
       "      <td>81.36</td>\n",
       "      <td>502.275</td>\n",
       "    </tr>\n",
       "    <tr>\n",
       "      <th>4</th>\n",
       "      <td>2010-09-05</td>\n",
       "      <td>357.6</td>\n",
       "      <td>35611.410</td>\n",
       "      <td>106.80</td>\n",
       "      <td>500.555</td>\n",
       "    </tr>\n",
       "  </tbody>\n",
       "</table>\n",
       "</div>"
      ],
      "text/plain": [
       "    FullDate   Tmax    SysLoad  GasPrice  ElecPrice\n",
       "0 2010-09-01  379.2  41565.380     88.56   2751.700\n",
       "1 2010-09-02  369.6  38898.990     88.56    570.810\n",
       "2 2010-09-03  439.2  41665.760    106.80    504.975\n",
       "3 2010-09-04  328.8  35638.085     81.36    502.275\n",
       "4 2010-09-05  357.6  35611.410    106.80    500.555"
      ]
     },
     "execution_count": 24,
     "metadata": {},
     "output_type": "execute_result"
    }
   ],
   "source": [
    "# Print the head of the copied version\n",
    "df_daily_copy.head()"
   ]
  },
  {
   "cell_type": "markdown",
   "id": "b3a94f8d",
   "metadata": {},
   "source": [
    "# Splitting the data into training and testing set\n",
    "Using the daily sampling rate (sum), divide the data into a train and test set. The first 2757 days is your train set and the last (x-2757) days is your test set. Where x is the length of the dataset. "
   ]
  },
  {
   "cell_type": "code",
   "execution_count": 25,
   "id": "5415ca1e",
   "metadata": {},
   "outputs": [],
   "source": [
    "# Extract the training data\n",
    "df_train = df_daily[:2757]"
   ]
  },
  {
   "cell_type": "code",
   "execution_count": 26,
   "id": "d552e594",
   "metadata": {},
   "outputs": [
    {
     "data": {
      "text/plain": [
       "(2757, 5)"
      ]
     },
     "execution_count": 26,
     "metadata": {},
     "output_type": "execute_result"
    }
   ],
   "source": [
    "# Print the shape\n",
    "df_train.shape"
   ]
  },
  {
   "cell_type": "code",
   "execution_count": 27,
   "id": "09d18088",
   "metadata": {},
   "outputs": [],
   "source": [
    "# Make a copy of the training data\n",
    "df_train_copy = df_train.copy()"
   ]
  },
  {
   "cell_type": "code",
   "execution_count": 28,
   "id": "b654a225",
   "metadata": {},
   "outputs": [
    {
     "data": {
      "text/plain": [
       "(2757, 5)"
      ]
     },
     "execution_count": 28,
     "metadata": {},
     "output_type": "execute_result"
    }
   ],
   "source": [
    "# print the shape of the copied version\n",
    "df_train_copy.shape"
   ]
  },
  {
   "cell_type": "code",
   "execution_count": 29,
   "id": "0362f03e",
   "metadata": {},
   "outputs": [],
   "source": [
    "# Extract test set\n",
    "df_test = df_daily.iloc[-(len(df_daily)-2757):]"
   ]
  },
  {
   "cell_type": "code",
   "execution_count": 30,
   "id": "22d68a66",
   "metadata": {},
   "outputs": [
    {
     "data": {
      "text/html": [
       "<div>\n",
       "<style scoped>\n",
       "    .dataframe tbody tr th:only-of-type {\n",
       "        vertical-align: middle;\n",
       "    }\n",
       "\n",
       "    .dataframe tbody tr th {\n",
       "        vertical-align: top;\n",
       "    }\n",
       "\n",
       "    .dataframe thead th {\n",
       "        text-align: right;\n",
       "    }\n",
       "</style>\n",
       "<table border=\"1\" class=\"dataframe\">\n",
       "  <thead>\n",
       "    <tr style=\"text-align: right;\">\n",
       "      <th></th>\n",
       "      <th>FullDate</th>\n",
       "      <th>Tmax</th>\n",
       "      <th>SysLoad</th>\n",
       "      <th>GasPrice</th>\n",
       "      <th>ElecPrice</th>\n",
       "    </tr>\n",
       "  </thead>\n",
       "  <tbody>\n",
       "    <tr>\n",
       "      <th>2757</th>\n",
       "      <td>2018-03-20</td>\n",
       "      <td>540.0</td>\n",
       "      <td>7696.91130</td>\n",
       "      <td>201.5880</td>\n",
       "      <td>1833.00</td>\n",
       "    </tr>\n",
       "    <tr>\n",
       "      <th>2758</th>\n",
       "      <td>2018-03-21</td>\n",
       "      <td>571.2</td>\n",
       "      <td>4658.05865</td>\n",
       "      <td>203.2560</td>\n",
       "      <td>1730.49</td>\n",
       "    </tr>\n",
       "    <tr>\n",
       "      <th>2759</th>\n",
       "      <td>2018-03-22</td>\n",
       "      <td>722.4</td>\n",
       "      <td>19161.78525</td>\n",
       "      <td>203.2560</td>\n",
       "      <td>2260.55</td>\n",
       "    </tr>\n",
       "    <tr>\n",
       "      <th>2760</th>\n",
       "      <td>2018-03-23</td>\n",
       "      <td>811.2</td>\n",
       "      <td>18090.43435</td>\n",
       "      <td>198.6456</td>\n",
       "      <td>2138.76</td>\n",
       "    </tr>\n",
       "    <tr>\n",
       "      <th>2761</th>\n",
       "      <td>2018-03-24</td>\n",
       "      <td>832.8</td>\n",
       "      <td>3763.53865</td>\n",
       "      <td>180.2160</td>\n",
       "      <td>1721.70</td>\n",
       "    </tr>\n",
       "  </tbody>\n",
       "</table>\n",
       "</div>"
      ],
      "text/plain": [
       "       FullDate   Tmax      SysLoad  GasPrice  ElecPrice\n",
       "2757 2018-03-20  540.0   7696.91130  201.5880    1833.00\n",
       "2758 2018-03-21  571.2   4658.05865  203.2560    1730.49\n",
       "2759 2018-03-22  722.4  19161.78525  203.2560    2260.55\n",
       "2760 2018-03-23  811.2  18090.43435  198.6456    2138.76\n",
       "2761 2018-03-24  832.8   3763.53865  180.2160    1721.70"
      ]
     },
     "execution_count": 30,
     "metadata": {},
     "output_type": "execute_result"
    }
   ],
   "source": [
    "# print the head\n",
    "df_test.head()"
   ]
  },
  {
   "cell_type": "code",
   "execution_count": 31,
   "id": "d54c561b",
   "metadata": {},
   "outputs": [
    {
     "data": {
      "text/plain": [
       "(1077, 5)"
      ]
     },
     "execution_count": 31,
     "metadata": {},
     "output_type": "execute_result"
    }
   ],
   "source": [
    "# Print the shape\n",
    "df_test.shape"
   ]
  },
  {
   "cell_type": "code",
   "execution_count": 32,
   "id": "6c32916d",
   "metadata": {},
   "outputs": [],
   "source": [
    "# Make a copy of the test set\n",
    "df_test_copy = df_test.copy()"
   ]
  },
  {
   "cell_type": "code",
   "execution_count": 33,
   "id": "37f25eea",
   "metadata": {},
   "outputs": [
    {
     "data": {
      "text/html": [
       "<div>\n",
       "<style scoped>\n",
       "    .dataframe tbody tr th:only-of-type {\n",
       "        vertical-align: middle;\n",
       "    }\n",
       "\n",
       "    .dataframe tbody tr th {\n",
       "        vertical-align: top;\n",
       "    }\n",
       "\n",
       "    .dataframe thead th {\n",
       "        text-align: right;\n",
       "    }\n",
       "</style>\n",
       "<table border=\"1\" class=\"dataframe\">\n",
       "  <thead>\n",
       "    <tr style=\"text-align: right;\">\n",
       "      <th></th>\n",
       "      <th>FullDate</th>\n",
       "      <th>Tmax</th>\n",
       "      <th>SysLoad</th>\n",
       "      <th>GasPrice</th>\n",
       "      <th>ElecPrice</th>\n",
       "    </tr>\n",
       "  </thead>\n",
       "  <tbody>\n",
       "    <tr>\n",
       "      <th>2757</th>\n",
       "      <td>2018-03-20</td>\n",
       "      <td>540.0</td>\n",
       "      <td>7696.91130</td>\n",
       "      <td>201.5880</td>\n",
       "      <td>1833.00</td>\n",
       "    </tr>\n",
       "    <tr>\n",
       "      <th>2758</th>\n",
       "      <td>2018-03-21</td>\n",
       "      <td>571.2</td>\n",
       "      <td>4658.05865</td>\n",
       "      <td>203.2560</td>\n",
       "      <td>1730.49</td>\n",
       "    </tr>\n",
       "    <tr>\n",
       "      <th>2759</th>\n",
       "      <td>2018-03-22</td>\n",
       "      <td>722.4</td>\n",
       "      <td>19161.78525</td>\n",
       "      <td>203.2560</td>\n",
       "      <td>2260.55</td>\n",
       "    </tr>\n",
       "    <tr>\n",
       "      <th>2760</th>\n",
       "      <td>2018-03-23</td>\n",
       "      <td>811.2</td>\n",
       "      <td>18090.43435</td>\n",
       "      <td>198.6456</td>\n",
       "      <td>2138.76</td>\n",
       "    </tr>\n",
       "    <tr>\n",
       "      <th>2761</th>\n",
       "      <td>2018-03-24</td>\n",
       "      <td>832.8</td>\n",
       "      <td>3763.53865</td>\n",
       "      <td>180.2160</td>\n",
       "      <td>1721.70</td>\n",
       "    </tr>\n",
       "  </tbody>\n",
       "</table>\n",
       "</div>"
      ],
      "text/plain": [
       "       FullDate   Tmax      SysLoad  GasPrice  ElecPrice\n",
       "2757 2018-03-20  540.0   7696.91130  201.5880    1833.00\n",
       "2758 2018-03-21  571.2   4658.05865  203.2560    1730.49\n",
       "2759 2018-03-22  722.4  19161.78525  203.2560    2260.55\n",
       "2760 2018-03-23  811.2  18090.43435  198.6456    2138.76\n",
       "2761 2018-03-24  832.8   3763.53865  180.2160    1721.70"
      ]
     },
     "execution_count": 33,
     "metadata": {},
     "output_type": "execute_result"
    }
   ],
   "source": [
    "df_test_copy.head()"
   ]
  },
  {
   "cell_type": "code",
   "execution_count": 34,
   "id": "3466035f",
   "metadata": {},
   "outputs": [
    {
     "data": {
      "text/plain": [
       "(1077, 5)"
      ]
     },
     "execution_count": 34,
     "metadata": {},
     "output_type": "execute_result"
    }
   ],
   "source": [
    "# Print the shape of the copied version\n",
    "df_test_copy.shape"
   ]
  },
  {
   "cell_type": "code",
   "execution_count": 35,
   "id": "b3e0f0e5",
   "metadata": {},
   "outputs": [
    {
     "name": "stderr",
     "output_type": "stream",
     "text": [
      "C:\\Users\\KAYODE\\anaconda3\\lib\\site-packages\\pandas\\core\\frame.py:4906: SettingWithCopyWarning: \n",
      "A value is trying to be set on a copy of a slice from a DataFrame\n",
      "\n",
      "See the caveats in the documentation: https://pandas.pydata.org/pandas-docs/stable/user_guide/indexing.html#returning-a-view-versus-a-copy\n",
      "  return super().drop(\n"
     ]
    }
   ],
   "source": [
    "# Dropping other columns from both the training and test set\n",
    "df_train.drop([\"Tmax\", \"SysLoad\", \"GasPrice\"], axis=1, inplace=True)\n",
    "df_test.drop([\"Tmax\", \"SysLoad\", \"GasPrice\"], axis=1, inplace = True)"
   ]
  },
  {
   "cell_type": "code",
   "execution_count": 36,
   "id": "9323aa56",
   "metadata": {},
   "outputs": [
    {
     "data": {
      "text/html": [
       "<div>\n",
       "<style scoped>\n",
       "    .dataframe tbody tr th:only-of-type {\n",
       "        vertical-align: middle;\n",
       "    }\n",
       "\n",
       "    .dataframe tbody tr th {\n",
       "        vertical-align: top;\n",
       "    }\n",
       "\n",
       "    .dataframe thead th {\n",
       "        text-align: right;\n",
       "    }\n",
       "</style>\n",
       "<table border=\"1\" class=\"dataframe\">\n",
       "  <thead>\n",
       "    <tr style=\"text-align: right;\">\n",
       "      <th></th>\n",
       "      <th>FullDate</th>\n",
       "      <th>ElecPrice</th>\n",
       "    </tr>\n",
       "  </thead>\n",
       "  <tbody>\n",
       "    <tr>\n",
       "      <th>0</th>\n",
       "      <td>2010-09-01</td>\n",
       "      <td>2751.700</td>\n",
       "    </tr>\n",
       "    <tr>\n",
       "      <th>1</th>\n",
       "      <td>2010-09-02</td>\n",
       "      <td>570.810</td>\n",
       "    </tr>\n",
       "    <tr>\n",
       "      <th>2</th>\n",
       "      <td>2010-09-03</td>\n",
       "      <td>504.975</td>\n",
       "    </tr>\n",
       "    <tr>\n",
       "      <th>3</th>\n",
       "      <td>2010-09-04</td>\n",
       "      <td>502.275</td>\n",
       "    </tr>\n",
       "    <tr>\n",
       "      <th>4</th>\n",
       "      <td>2010-09-05</td>\n",
       "      <td>500.555</td>\n",
       "    </tr>\n",
       "  </tbody>\n",
       "</table>\n",
       "</div>"
      ],
      "text/plain": [
       "    FullDate  ElecPrice\n",
       "0 2010-09-01   2751.700\n",
       "1 2010-09-02    570.810\n",
       "2 2010-09-03    504.975\n",
       "3 2010-09-04    502.275\n",
       "4 2010-09-05    500.555"
      ]
     },
     "execution_count": 36,
     "metadata": {},
     "output_type": "execute_result"
    }
   ],
   "source": [
    "df_train.head()"
   ]
  },
  {
   "cell_type": "code",
   "execution_count": 37,
   "id": "3403a0c2",
   "metadata": {},
   "outputs": [
    {
     "data": {
      "text/html": [
       "<div>\n",
       "<style scoped>\n",
       "    .dataframe tbody tr th:only-of-type {\n",
       "        vertical-align: middle;\n",
       "    }\n",
       "\n",
       "    .dataframe tbody tr th {\n",
       "        vertical-align: top;\n",
       "    }\n",
       "\n",
       "    .dataframe thead th {\n",
       "        text-align: right;\n",
       "    }\n",
       "</style>\n",
       "<table border=\"1\" class=\"dataframe\">\n",
       "  <thead>\n",
       "    <tr style=\"text-align: right;\">\n",
       "      <th></th>\n",
       "      <th>FullDate</th>\n",
       "      <th>ElecPrice</th>\n",
       "    </tr>\n",
       "  </thead>\n",
       "  <tbody>\n",
       "    <tr>\n",
       "      <th>2757</th>\n",
       "      <td>2018-03-20</td>\n",
       "      <td>1833.00</td>\n",
       "    </tr>\n",
       "    <tr>\n",
       "      <th>2758</th>\n",
       "      <td>2018-03-21</td>\n",
       "      <td>1730.49</td>\n",
       "    </tr>\n",
       "    <tr>\n",
       "      <th>2759</th>\n",
       "      <td>2018-03-22</td>\n",
       "      <td>2260.55</td>\n",
       "    </tr>\n",
       "    <tr>\n",
       "      <th>2760</th>\n",
       "      <td>2018-03-23</td>\n",
       "      <td>2138.76</td>\n",
       "    </tr>\n",
       "    <tr>\n",
       "      <th>2761</th>\n",
       "      <td>2018-03-24</td>\n",
       "      <td>1721.70</td>\n",
       "    </tr>\n",
       "  </tbody>\n",
       "</table>\n",
       "</div>"
      ],
      "text/plain": [
       "       FullDate  ElecPrice\n",
       "2757 2018-03-20    1833.00\n",
       "2758 2018-03-21    1730.49\n",
       "2759 2018-03-22    2260.55\n",
       "2760 2018-03-23    2138.76\n",
       "2761 2018-03-24    1721.70"
      ]
     },
     "execution_count": 37,
     "metadata": {},
     "output_type": "execute_result"
    }
   ],
   "source": [
    "df_test.head()"
   ]
  },
  {
   "cell_type": "code",
   "execution_count": 38,
   "id": "ecfa040d",
   "metadata": {},
   "outputs": [],
   "source": [
    "# Renaming the columns in both training and test set\n",
    "df_train.columns = [\"ds\", \"y\"]\n",
    "df_test.columns = [\"ds\", \"y\"]"
   ]
  },
  {
   "cell_type": "code",
   "execution_count": 39,
   "id": "6c78e3fc",
   "metadata": {},
   "outputs": [
    {
     "data": {
      "text/html": [
       "<div>\n",
       "<style scoped>\n",
       "    .dataframe tbody tr th:only-of-type {\n",
       "        vertical-align: middle;\n",
       "    }\n",
       "\n",
       "    .dataframe tbody tr th {\n",
       "        vertical-align: top;\n",
       "    }\n",
       "\n",
       "    .dataframe thead th {\n",
       "        text-align: right;\n",
       "    }\n",
       "</style>\n",
       "<table border=\"1\" class=\"dataframe\">\n",
       "  <thead>\n",
       "    <tr style=\"text-align: right;\">\n",
       "      <th></th>\n",
       "      <th>ds</th>\n",
       "      <th>y</th>\n",
       "    </tr>\n",
       "  </thead>\n",
       "  <tbody>\n",
       "    <tr>\n",
       "      <th>0</th>\n",
       "      <td>2010-09-01</td>\n",
       "      <td>2751.700</td>\n",
       "    </tr>\n",
       "    <tr>\n",
       "      <th>1</th>\n",
       "      <td>2010-09-02</td>\n",
       "      <td>570.810</td>\n",
       "    </tr>\n",
       "    <tr>\n",
       "      <th>2</th>\n",
       "      <td>2010-09-03</td>\n",
       "      <td>504.975</td>\n",
       "    </tr>\n",
       "    <tr>\n",
       "      <th>3</th>\n",
       "      <td>2010-09-04</td>\n",
       "      <td>502.275</td>\n",
       "    </tr>\n",
       "    <tr>\n",
       "      <th>4</th>\n",
       "      <td>2010-09-05</td>\n",
       "      <td>500.555</td>\n",
       "    </tr>\n",
       "  </tbody>\n",
       "</table>\n",
       "</div>"
      ],
      "text/plain": [
       "          ds         y\n",
       "0 2010-09-01  2751.700\n",
       "1 2010-09-02   570.810\n",
       "2 2010-09-03   504.975\n",
       "3 2010-09-04   502.275\n",
       "4 2010-09-05   500.555"
      ]
     },
     "execution_count": 39,
     "metadata": {},
     "output_type": "execute_result"
    }
   ],
   "source": [
    "df_train.head()"
   ]
  },
  {
   "cell_type": "code",
   "execution_count": 40,
   "id": "0cc70059",
   "metadata": {},
   "outputs": [
    {
     "data": {
      "text/html": [
       "<div>\n",
       "<style scoped>\n",
       "    .dataframe tbody tr th:only-of-type {\n",
       "        vertical-align: middle;\n",
       "    }\n",
       "\n",
       "    .dataframe tbody tr th {\n",
       "        vertical-align: top;\n",
       "    }\n",
       "\n",
       "    .dataframe thead th {\n",
       "        text-align: right;\n",
       "    }\n",
       "</style>\n",
       "<table border=\"1\" class=\"dataframe\">\n",
       "  <thead>\n",
       "    <tr style=\"text-align: right;\">\n",
       "      <th></th>\n",
       "      <th>ds</th>\n",
       "      <th>y</th>\n",
       "    </tr>\n",
       "  </thead>\n",
       "  <tbody>\n",
       "    <tr>\n",
       "      <th>2757</th>\n",
       "      <td>2018-03-20</td>\n",
       "      <td>1833.00</td>\n",
       "    </tr>\n",
       "    <tr>\n",
       "      <th>2758</th>\n",
       "      <td>2018-03-21</td>\n",
       "      <td>1730.49</td>\n",
       "    </tr>\n",
       "    <tr>\n",
       "      <th>2759</th>\n",
       "      <td>2018-03-22</td>\n",
       "      <td>2260.55</td>\n",
       "    </tr>\n",
       "    <tr>\n",
       "      <th>2760</th>\n",
       "      <td>2018-03-23</td>\n",
       "      <td>2138.76</td>\n",
       "    </tr>\n",
       "    <tr>\n",
       "      <th>2761</th>\n",
       "      <td>2018-03-24</td>\n",
       "      <td>1721.70</td>\n",
       "    </tr>\n",
       "  </tbody>\n",
       "</table>\n",
       "</div>"
      ],
      "text/plain": [
       "             ds        y\n",
       "2757 2018-03-20  1833.00\n",
       "2758 2018-03-21  1730.49\n",
       "2759 2018-03-22  2260.55\n",
       "2760 2018-03-23  2138.76\n",
       "2761 2018-03-24  1721.70"
      ]
     },
     "execution_count": 40,
     "metadata": {},
     "output_type": "execute_result"
    }
   ],
   "source": [
    "# print the head of the training dataset\n",
    "df_test.head()"
   ]
  },
  {
   "cell_type": "code",
   "execution_count": 41,
   "id": "01f76902",
   "metadata": {},
   "outputs": [
    {
     "data": {
      "image/png": "[encoded data removed]",
      "text/plain": [
       "<Figure size 432x288 with 1 Axes>"
      ]
     },
     "metadata": {
      "needs_background": "light"
     },
     "output_type": "display_data"
    }
   ],
   "source": [
    "plt.plot(df_train.ds, df_train.y, label = \"training set\")\n",
    "plt.plot(df_test.ds, df_test.y, label=\"test set\", color = \"red\")\n",
    "plt.legend()\n",
    "plt.show()"
   ]
  },
  {
   "cell_type": "code",
   "execution_count": null,
   "id": "c912d12a",
   "metadata": {},
   "outputs": [],
   "source": []
  },
  {
   "cell_type": "markdown",
   "id": "76f7595d",
   "metadata": {},
   "source": [
    "# Univariate Time Forecasting"
   ]
  },
  {
   "cell_type": "code",
   "execution_count": 42,
   "id": "1057b871",
   "metadata": {},
   "outputs": [],
   "source": [
    "# Instantiate the model\n",
    "m = Prophet()"
   ]
  },
  {
   "cell_type": "code",
   "execution_count": 43,
   "id": "0cc7be60",
   "metadata": {},
   "outputs": [
    {
     "name": "stderr",
     "output_type": "stream",
     "text": [
      "INFO:prophet:Disabling daily seasonality. Run prophet with daily_seasonality=True to override this.\n"
     ]
    }
   ],
   "source": [
    "# Train the model\n",
    "model = m.fit(df_train)"
   ]
  },
  {
   "cell_type": "code",
   "execution_count": 44,
   "id": "cb488290",
   "metadata": {},
   "outputs": [],
   "source": [
    "forecast = model.predict(df_test)"
   ]
  },
  {
   "cell_type": "code",
   "execution_count": 45,
   "id": "30bb1546",
   "metadata": {},
   "outputs": [
    {
     "data": {
      "text/html": [
       "<div>\n",
       "<style scoped>\n",
       "    .dataframe tbody tr th:only-of-type {\n",
       "        vertical-align: middle;\n",
       "    }\n",
       "\n",
       "    .dataframe tbody tr th {\n",
       "        vertical-align: top;\n",
       "    }\n",
       "\n",
       "    .dataframe thead th {\n",
       "        text-align: right;\n",
       "    }\n",
       "</style>\n",
       "<table border=\"1\" class=\"dataframe\">\n",
       "  <thead>\n",
       "    <tr style=\"text-align: right;\">\n",
       "      <th></th>\n",
       "      <th>ds</th>\n",
       "      <th>yhat</th>\n",
       "      <th>yhat_lower</th>\n",
       "      <th>yhat_upper</th>\n",
       "      <th>trend</th>\n",
       "      <th>trend_lower</th>\n",
       "      <th>trend_upper</th>\n",
       "    </tr>\n",
       "  </thead>\n",
       "  <tbody>\n",
       "    <tr>\n",
       "      <th>0</th>\n",
       "      <td>2018-03-20</td>\n",
       "      <td>2532.597599</td>\n",
       "      <td>118.609031</td>\n",
       "      <td>5011.113096</td>\n",
       "      <td>2687.559970</td>\n",
       "      <td>2687.559970</td>\n",
       "      <td>2687.559970</td>\n",
       "    </tr>\n",
       "    <tr>\n",
       "      <th>1</th>\n",
       "      <td>2018-03-21</td>\n",
       "      <td>2685.904876</td>\n",
       "      <td>199.064519</td>\n",
       "      <td>4985.660442</td>\n",
       "      <td>2688.363580</td>\n",
       "      <td>2688.363580</td>\n",
       "      <td>2688.363580</td>\n",
       "    </tr>\n",
       "    <tr>\n",
       "      <th>2</th>\n",
       "      <td>2018-03-22</td>\n",
       "      <td>2784.881631</td>\n",
       "      <td>430.838521</td>\n",
       "      <td>5152.801224</td>\n",
       "      <td>2689.167191</td>\n",
       "      <td>2689.167191</td>\n",
       "      <td>2689.167191</td>\n",
       "    </tr>\n",
       "    <tr>\n",
       "      <th>3</th>\n",
       "      <td>2018-03-23</td>\n",
       "      <td>2576.986939</td>\n",
       "      <td>229.673368</td>\n",
       "      <td>4833.972418</td>\n",
       "      <td>2689.970801</td>\n",
       "      <td>2689.970801</td>\n",
       "      <td>2689.970801</td>\n",
       "    </tr>\n",
       "    <tr>\n",
       "      <th>4</th>\n",
       "      <td>2018-03-24</td>\n",
       "      <td>2252.177118</td>\n",
       "      <td>-373.067615</td>\n",
       "      <td>4635.526818</td>\n",
       "      <td>2690.774412</td>\n",
       "      <td>2690.774412</td>\n",
       "      <td>2690.774412</td>\n",
       "    </tr>\n",
       "    <tr>\n",
       "      <th>...</th>\n",
       "      <td>...</td>\n",
       "      <td>...</td>\n",
       "      <td>...</td>\n",
       "      <td>...</td>\n",
       "      <td>...</td>\n",
       "      <td>...</td>\n",
       "      <td>...</td>\n",
       "    </tr>\n",
       "    <tr>\n",
       "      <th>1072</th>\n",
       "      <td>2021-02-24</td>\n",
       "      <td>3459.815189</td>\n",
       "      <td>390.560091</td>\n",
       "      <td>6445.376899</td>\n",
       "      <td>3549.030588</td>\n",
       "      <td>1750.507144</td>\n",
       "      <td>5226.937397</td>\n",
       "    </tr>\n",
       "    <tr>\n",
       "      <th>1073</th>\n",
       "      <td>2021-02-25</td>\n",
       "      <td>3526.670387</td>\n",
       "      <td>492.293331</td>\n",
       "      <td>6438.353822</td>\n",
       "      <td>3549.834198</td>\n",
       "      <td>1748.474002</td>\n",
       "      <td>5230.279067</td>\n",
       "    </tr>\n",
       "    <tr>\n",
       "      <th>1074</th>\n",
       "      <td>2021-02-26</td>\n",
       "      <td>3293.467992</td>\n",
       "      <td>185.066197</td>\n",
       "      <td>5897.734090</td>\n",
       "      <td>3550.637809</td>\n",
       "      <td>1746.440861</td>\n",
       "      <td>5233.620738</td>\n",
       "    </tr>\n",
       "    <tr>\n",
       "      <th>1075</th>\n",
       "      <td>2021-02-27</td>\n",
       "      <td>2950.116564</td>\n",
       "      <td>49.990446</td>\n",
       "      <td>5709.334776</td>\n",
       "      <td>3551.441420</td>\n",
       "      <td>1744.407719</td>\n",
       "      <td>5236.962408</td>\n",
       "    </tr>\n",
       "    <tr>\n",
       "      <th>1076</th>\n",
       "      <td>2021-02-28</td>\n",
       "      <td>2862.048658</td>\n",
       "      <td>-165.102794</td>\n",
       "      <td>5721.633042</td>\n",
       "      <td>3552.245030</td>\n",
       "      <td>1742.374577</td>\n",
       "      <td>5240.304078</td>\n",
       "    </tr>\n",
       "  </tbody>\n",
       "</table>\n",
       "<p>1077 rows × 7 columns</p>\n",
       "</div>"
      ],
      "text/plain": [
       "             ds         yhat  yhat_lower   yhat_upper        trend  \\\n",
       "0    2018-03-20  2532.597599  118.609031  5011.113096  2687.559970   \n",
       "1    2018-03-21  2685.904876  199.064519  4985.660442  2688.363580   \n",
       "2    2018-03-22  2784.881631  430.838521  5152.801224  2689.167191   \n",
       "3    2018-03-23  2576.986939  229.673368  4833.972418  2689.970801   \n",
       "4    2018-03-24  2252.177118 -373.067615  4635.526818  2690.774412   \n",
       "...         ...          ...         ...          ...          ...   \n",
       "1072 2021-02-24  3459.815189  390.560091  6445.376899  3549.030588   \n",
       "1073 2021-02-25  3526.670387  492.293331  6438.353822  3549.834198   \n",
       "1074 2021-02-26  3293.467992  185.066197  5897.734090  3550.637809   \n",
       "1075 2021-02-27  2950.116564   49.990446  5709.334776  3551.441420   \n",
       "1076 2021-02-28  2862.048658 -165.102794  5721.633042  3552.245030   \n",
       "\n",
       "      trend_lower  trend_upper  \n",
       "0     2687.559970  2687.559970  \n",
       "1     2688.363580  2688.363580  \n",
       "2     2689.167191  2689.167191  \n",
       "3     2689.970801  2689.970801  \n",
       "4     2690.774412  2690.774412  \n",
       "...           ...          ...  \n",
       "1072  1750.507144  5226.937397  \n",
       "1073  1748.474002  5230.279067  \n",
       "1074  1746.440861  5233.620738  \n",
       "1075  1744.407719  5236.962408  \n",
       "1076  1742.374577  5240.304078  \n",
       "\n",
       "[1077 rows x 7 columns]"
      ]
     },
     "execution_count": 45,
     "metadata": {},
     "output_type": "execute_result"
    }
   ],
   "source": [
    "# Print the forecast Result\n",
    "forecast[['ds', 'yhat', 'yhat_lower', 'yhat_upper', 'trend', 'trend_lower', 'trend_upper']]"
   ]
  },
  {
   "cell_type": "code",
   "execution_count": 48,
   "id": "9de253ce",
   "metadata": {
    "scrolled": true
   },
   "outputs": [
    {
     "data": {
      "image/png": "[encoded data removed]",
      "text/plain": [
       "<Figure size 720x432 with 1 Axes>"
      ]
     },
     "metadata": {},
     "output_type": "display_data"
    }
   ],
   "source": [
    "# Visualize the forecast result\n",
    "plot1 = m.plot(forecast)"
   ]
  },
  {
   "cell_type": "code",
   "execution_count": 49,
   "id": "9eeb361c",
   "metadata": {},
   "outputs": [
    {
     "data": {
      "image/png": "[encoded data removed]",
      "text/plain": [
       "<Figure size 648x648 with 3 Axes>"
      ]
     },
     "metadata": {},
     "output_type": "display_data"
    }
   ],
   "source": [
    "# plot the yearly result\n",
    "plot2 = m.plot_components(forecast)"
   ]
  },
  {
   "cell_type": "code",
   "execution_count": 50,
   "id": "a9fa51e1",
   "metadata": {},
   "outputs": [],
   "source": [
    "# Evaluate the performance of the model\n",
    "y_actual = df_test.y\n",
    "y_pred = forecast[-(len(df_daily)-2757):][\"yhat\"]"
   ]
  },
  {
   "cell_type": "code",
   "execution_count": 52,
   "id": "5614d770",
   "metadata": {},
   "outputs": [
    {
     "data": {
      "text/plain": [
       "546.82354876927"
      ]
     },
     "execution_count": 52,
     "metadata": {},
     "output_type": "execute_result"
    }
   ],
   "source": [
    "mean_absolute_percentage_error(y_actual, y_pred)*100"
   ]
  },
  {
   "cell_type": "code",
   "execution_count": 56,
   "id": "74f260b8",
   "metadata": {},
   "outputs": [],
   "source": [
    "def mape(actual, pred): \n",
    "    actual, pred = np.array(actual), np.array(pred)\n",
    "    return round(np.mean(np.abs((actual - pred) / actual)) * 100,2)"
   ]
  },
  {
   "cell_type": "code",
   "execution_count": 57,
   "id": "72daedb1",
   "metadata": {},
   "outputs": [],
   "source": [
    "actual = y_actual\n",
    "pred = y_pred"
   ]
  },
  {
   "cell_type": "code",
   "execution_count": 61,
   "id": "7c979d6d",
   "metadata": {},
   "outputs": [
    {
     "name": "stdout",
     "output_type": "stream",
     "text": [
      "MAPE: 546.82\n"
     ]
    }
   ],
   "source": [
    "print(\"MAPE: {}\".format(mape(actual, pred)))"
   ]
  },
  {
   "cell_type": "code",
   "execution_count": 64,
   "id": "1c657755",
   "metadata": {},
   "outputs": [
    {
     "name": "stdout",
     "output_type": "stream",
     "text": [
      "RMSE: 3212.28\n"
     ]
    }
   ],
   "source": [
    "# Calculating the RMSE\n",
    "from sklearn.metrics import mean_squared_error\n",
    "rmse = round(np.sqrt(mean_squared_error(y_actual, y_pred)),2)\n",
    "print(\"RMSE: {}\".format(rmse))"
   ]
  },
  {
   "cell_type": "code",
   "execution_count": 65,
   "id": "4cd2e642",
   "metadata": {},
   "outputs": [],
   "source": [
    "# Stationarity Check for SysLoad\n",
    "from statsmodels.tsa.stattools import adfuller\n",
    "adf_result = adfuller(df_daily[\"SysLoad\"])"
   ]
  },
  {
   "cell_type": "code",
   "execution_count": 66,
   "id": "be03b6fa",
   "metadata": {},
   "outputs": [
    {
     "name": "stdout",
     "output_type": "stream",
     "text": [
      "ADF statistic: -3.690158988836651\n",
      "p-value: 0.00425372550457405\n",
      "No. of lags used: 30\n",
      "No. of observations used: 3803\n",
      "Critical values: \n",
      "  1%: -3.432070672988693\n",
      "  5%: -2.8623002987378547\n",
      "  10%: -2.567174716967499\n"
     ]
    }
   ],
   "source": [
    "# Print the result\n",
    "print(f'ADF statistic: {adf_result[0]}')\n",
    "print(f'p-value: {adf_result[1]}')\n",
    "print(f'No. of lags used: {adf_result[2]}')\n",
    "print(f'No. of observations used: {adf_result[3]}')\n",
    "print(f'Critical values: ')\n",
    "for k, v in adf_result[4].items():\n",
    "    print(f'  {k}: {v}')"
   ]
  },
  {
   "cell_type": "code",
   "execution_count": 67,
   "id": "193a890d",
   "metadata": {},
   "outputs": [],
   "source": [
    "# Stationarity Test for GasPrice\n",
    "from statsmodels.tsa.stattools import adfuller\n",
    "adf_result1 = adfuller(df_daily[\"GasPrice\"])"
   ]
  },
  {
   "cell_type": "code",
   "execution_count": 68,
   "id": "27fe41e8",
   "metadata": {},
   "outputs": [
    {
     "name": "stdout",
     "output_type": "stream",
     "text": [
      "ADF statistic: -2.902766697165178\n",
      "p-value: 0.04502721288462563\n",
      "No. of lags used: 27\n",
      "No. of observations used: 3806\n",
      "Critical values: \n",
      "  1%: -3.4320693157877544\n",
      "  5%: -2.8622996992165364\n",
      "  10%: -2.5671743978048323\n"
     ]
    }
   ],
   "source": [
    "#Print the result\n",
    "print(f'ADF statistic: {adf_result1[0]}')\n",
    "print(f'p-value: {adf_result1[1]}')\n",
    "print(f'No. of lags used: {adf_result1[2]}')\n",
    "print(f'No. of observations used: {adf_result1[3]}')\n",
    "print(f'Critical values: ')\n",
    "for k, v in adf_result1[4].items():\n",
    "    print(f'  {k}: {v}')"
   ]
  },
  {
   "cell_type": "code",
   "execution_count": 69,
   "id": "9a9660ce",
   "metadata": {},
   "outputs": [],
   "source": [
    "# Stationarity Test for ElecPrice\n",
    "adf_result2 = adfuller(df_daily[\"ElecPrice\"])"
   ]
  },
  {
   "cell_type": "code",
   "execution_count": 70,
   "id": "bb0d25f6",
   "metadata": {},
   "outputs": [
    {
     "name": "stdout",
     "output_type": "stream",
     "text": [
      "ADF statistic: -8.269053866873824\n",
      "p-value: 4.848817773711018e-13\n",
      "No. of lags used: 20\n",
      "No. of observations used: 3813\n",
      "Critical values: \n",
      "  1%: -3.432066157296446\n",
      "  5%: -2.8622983040036005\n",
      "  10%: -2.5671736550459663\n"
     ]
    }
   ],
   "source": [
    "# Print the result\n",
    "print(f'ADF statistic: {adf_result2[0]}')\n",
    "print(f'p-value: {adf_result2[1]}')\n",
    "print(f'No. of lags used: {adf_result2[2]}')\n",
    "print(f'No. of observations used: {adf_result2[3]}')\n",
    "print(f'Critical values: ')\n",
    "for k, v in adf_result2[4].items():\n",
    "    print(f'  {k}: {v}')"
   ]
  },
  {
   "cell_type": "markdown",
   "id": "4a9bbd33",
   "metadata": {},
   "source": [
    "# Multivariate Time Series Forecasting"
   ]
  },
  {
   "cell_type": "code",
   "execution_count": 71,
   "id": "5076546e",
   "metadata": {},
   "outputs": [],
   "source": [
    "# Prepare the data\n",
    "df_daily_copy = df_daily_copy.rename(columns={\"FullDate\":\"ds\", \"ElecPrice\":\"y\"})\n",
    "df_train_copy = df_train_copy.rename(columns = {\"FullDate\":\"ds\", \"ElecPrice\":\"y\"})\n",
    "df_test_copy = df_test_copy.rename(columns = {\"FullDate\":\"ds\", \"ElecPrice\":\"y\"})"
   ]
  },
  {
   "cell_type": "code",
   "execution_count": 72,
   "id": "294f569c",
   "metadata": {},
   "outputs": [
    {
     "data": {
      "text/html": [
       "<div>\n",
       "<style scoped>\n",
       "    .dataframe tbody tr th:only-of-type {\n",
       "        vertical-align: middle;\n",
       "    }\n",
       "\n",
       "    .dataframe tbody tr th {\n",
       "        vertical-align: top;\n",
       "    }\n",
       "\n",
       "    .dataframe thead th {\n",
       "        text-align: right;\n",
       "    }\n",
       "</style>\n",
       "<table border=\"1\" class=\"dataframe\">\n",
       "  <thead>\n",
       "    <tr style=\"text-align: right;\">\n",
       "      <th></th>\n",
       "      <th>ds</th>\n",
       "      <th>Tmax</th>\n",
       "      <th>SysLoad</th>\n",
       "      <th>GasPrice</th>\n",
       "      <th>y</th>\n",
       "    </tr>\n",
       "  </thead>\n",
       "  <tbody>\n",
       "    <tr>\n",
       "      <th>0</th>\n",
       "      <td>2010-09-01</td>\n",
       "      <td>379.2</td>\n",
       "      <td>41565.380</td>\n",
       "      <td>88.56</td>\n",
       "      <td>2751.700</td>\n",
       "    </tr>\n",
       "    <tr>\n",
       "      <th>1</th>\n",
       "      <td>2010-09-02</td>\n",
       "      <td>369.6</td>\n",
       "      <td>38898.990</td>\n",
       "      <td>88.56</td>\n",
       "      <td>570.810</td>\n",
       "    </tr>\n",
       "    <tr>\n",
       "      <th>2</th>\n",
       "      <td>2010-09-03</td>\n",
       "      <td>439.2</td>\n",
       "      <td>41665.760</td>\n",
       "      <td>106.80</td>\n",
       "      <td>504.975</td>\n",
       "    </tr>\n",
       "    <tr>\n",
       "      <th>3</th>\n",
       "      <td>2010-09-04</td>\n",
       "      <td>328.8</td>\n",
       "      <td>35638.085</td>\n",
       "      <td>81.36</td>\n",
       "      <td>502.275</td>\n",
       "    </tr>\n",
       "    <tr>\n",
       "      <th>4</th>\n",
       "      <td>2010-09-05</td>\n",
       "      <td>357.6</td>\n",
       "      <td>35611.410</td>\n",
       "      <td>106.80</td>\n",
       "      <td>500.555</td>\n",
       "    </tr>\n",
       "  </tbody>\n",
       "</table>\n",
       "</div>"
      ],
      "text/plain": [
       "          ds   Tmax    SysLoad  GasPrice         y\n",
       "0 2010-09-01  379.2  41565.380     88.56  2751.700\n",
       "1 2010-09-02  369.6  38898.990     88.56   570.810\n",
       "2 2010-09-03  439.2  41665.760    106.80   504.975\n",
       "3 2010-09-04  328.8  35638.085     81.36   502.275\n",
       "4 2010-09-05  357.6  35611.410    106.80   500.555"
      ]
     },
     "execution_count": 72,
     "metadata": {},
     "output_type": "execute_result"
    }
   ],
   "source": [
    "# Print the head of the training set\n",
    "df_train_copy.head()"
   ]
  },
  {
   "cell_type": "code",
   "execution_count": 73,
   "id": "8937307d",
   "metadata": {},
   "outputs": [
    {
     "data": {
      "text/html": [
       "<div>\n",
       "<style scoped>\n",
       "    .dataframe tbody tr th:only-of-type {\n",
       "        vertical-align: middle;\n",
       "    }\n",
       "\n",
       "    .dataframe tbody tr th {\n",
       "        vertical-align: top;\n",
       "    }\n",
       "\n",
       "    .dataframe thead th {\n",
       "        text-align: right;\n",
       "    }\n",
       "</style>\n",
       "<table border=\"1\" class=\"dataframe\">\n",
       "  <thead>\n",
       "    <tr style=\"text-align: right;\">\n",
       "      <th></th>\n",
       "      <th>ds</th>\n",
       "      <th>Tmax</th>\n",
       "      <th>SysLoad</th>\n",
       "      <th>GasPrice</th>\n",
       "      <th>y</th>\n",
       "    </tr>\n",
       "  </thead>\n",
       "  <tbody>\n",
       "    <tr>\n",
       "      <th>2757</th>\n",
       "      <td>2018-03-20</td>\n",
       "      <td>540.0</td>\n",
       "      <td>7696.91130</td>\n",
       "      <td>201.5880</td>\n",
       "      <td>1833.00</td>\n",
       "    </tr>\n",
       "    <tr>\n",
       "      <th>2758</th>\n",
       "      <td>2018-03-21</td>\n",
       "      <td>571.2</td>\n",
       "      <td>4658.05865</td>\n",
       "      <td>203.2560</td>\n",
       "      <td>1730.49</td>\n",
       "    </tr>\n",
       "    <tr>\n",
       "      <th>2759</th>\n",
       "      <td>2018-03-22</td>\n",
       "      <td>722.4</td>\n",
       "      <td>19161.78525</td>\n",
       "      <td>203.2560</td>\n",
       "      <td>2260.55</td>\n",
       "    </tr>\n",
       "    <tr>\n",
       "      <th>2760</th>\n",
       "      <td>2018-03-23</td>\n",
       "      <td>811.2</td>\n",
       "      <td>18090.43435</td>\n",
       "      <td>198.6456</td>\n",
       "      <td>2138.76</td>\n",
       "    </tr>\n",
       "    <tr>\n",
       "      <th>2761</th>\n",
       "      <td>2018-03-24</td>\n",
       "      <td>832.8</td>\n",
       "      <td>3763.53865</td>\n",
       "      <td>180.2160</td>\n",
       "      <td>1721.70</td>\n",
       "    </tr>\n",
       "  </tbody>\n",
       "</table>\n",
       "</div>"
      ],
      "text/plain": [
       "             ds   Tmax      SysLoad  GasPrice        y\n",
       "2757 2018-03-20  540.0   7696.91130  201.5880  1833.00\n",
       "2758 2018-03-21  571.2   4658.05865  203.2560  1730.49\n",
       "2759 2018-03-22  722.4  19161.78525  203.2560  2260.55\n",
       "2760 2018-03-23  811.2  18090.43435  198.6456  2138.76\n",
       "2761 2018-03-24  832.8   3763.53865  180.2160  1721.70"
      ]
     },
     "execution_count": 73,
     "metadata": {},
     "output_type": "execute_result"
    }
   ],
   "source": [
    "# Print the head of the test set\n",
    "df_test_copy.head()"
   ]
  },
  {
   "cell_type": "code",
   "execution_count": 74,
   "id": "898437e5",
   "metadata": {},
   "outputs": [],
   "source": [
    "# Instantiate the model\n",
    "model_new = Prophet()"
   ]
  },
  {
   "cell_type": "code",
   "execution_count": 75,
   "id": "92764d38",
   "metadata": {},
   "outputs": [
    {
     "data": {
      "text/plain": [
       "<prophet.forecaster.Prophet at 0x225f62d6f40>"
      ]
     },
     "execution_count": 75,
     "metadata": {},
     "output_type": "execute_result"
    }
   ],
   "source": [
    "# Add the regressors\n",
    "model_new.add_regressor(\"Tmax\")\n",
    "model_new.add_regressor(\"SysLoad\")\n",
    "model_new.add_regressor(\"GasPrice\")"
   ]
  },
  {
   "cell_type": "code",
   "execution_count": 76,
   "id": "afe8fbb8",
   "metadata": {},
   "outputs": [
    {
     "name": "stderr",
     "output_type": "stream",
     "text": [
      "INFO:prophet:Disabling daily seasonality. Run prophet with daily_seasonality=True to override this.\n"
     ]
    },
    {
     "data": {
      "text/plain": [
       "<prophet.forecaster.Prophet at 0x225f62d6f40>"
      ]
     },
     "execution_count": 76,
     "metadata": {},
     "output_type": "execute_result"
    }
   ],
   "source": [
    "# Fit the model\n",
    "model_new.fit(df_train_copy)"
   ]
  },
  {
   "cell_type": "code",
   "execution_count": 77,
   "id": "9137b302",
   "metadata": {},
   "outputs": [],
   "source": [
    "# Make forecast\n",
    "forecast_data = model_new.predict(df_test_copy)"
   ]
  },
  {
   "cell_type": "code",
   "execution_count": 78,
   "id": "90807369",
   "metadata": {},
   "outputs": [
    {
     "data": {
      "text/html": [
       "<div>\n",
       "<style scoped>\n",
       "    .dataframe tbody tr th:only-of-type {\n",
       "        vertical-align: middle;\n",
       "    }\n",
       "\n",
       "    .dataframe tbody tr th {\n",
       "        vertical-align: top;\n",
       "    }\n",
       "\n",
       "    .dataframe thead th {\n",
       "        text-align: right;\n",
       "    }\n",
       "</style>\n",
       "<table border=\"1\" class=\"dataframe\">\n",
       "  <thead>\n",
       "    <tr style=\"text-align: right;\">\n",
       "      <th></th>\n",
       "      <th>ds</th>\n",
       "      <th>yhat</th>\n",
       "      <th>yhat_lower</th>\n",
       "      <th>yhat_upper</th>\n",
       "      <th>trend</th>\n",
       "      <th>trend_lower</th>\n",
       "      <th>trend_upper</th>\n",
       "    </tr>\n",
       "  </thead>\n",
       "  <tbody>\n",
       "    <tr>\n",
       "      <th>0</th>\n",
       "      <td>2018-03-20</td>\n",
       "      <td>1986.827251</td>\n",
       "      <td>-185.307199</td>\n",
       "      <td>4267.039492</td>\n",
       "      <td>1862.391341</td>\n",
       "      <td>1862.391341</td>\n",
       "      <td>1862.391341</td>\n",
       "    </tr>\n",
       "    <tr>\n",
       "      <th>1</th>\n",
       "      <td>2018-03-21</td>\n",
       "      <td>1978.327733</td>\n",
       "      <td>-93.399121</td>\n",
       "      <td>4285.361914</td>\n",
       "      <td>1863.080260</td>\n",
       "      <td>1863.080260</td>\n",
       "      <td>1863.080260</td>\n",
       "    </tr>\n",
       "    <tr>\n",
       "      <th>2</th>\n",
       "      <td>2018-03-22</td>\n",
       "      <td>2898.217274</td>\n",
       "      <td>836.707201</td>\n",
       "      <td>5117.463596</td>\n",
       "      <td>1863.769179</td>\n",
       "      <td>1863.769179</td>\n",
       "      <td>1863.769179</td>\n",
       "    </tr>\n",
       "    <tr>\n",
       "      <th>3</th>\n",
       "      <td>2018-03-23</td>\n",
       "      <td>2582.277128</td>\n",
       "      <td>158.132570</td>\n",
       "      <td>4770.689500</td>\n",
       "      <td>1864.458099</td>\n",
       "      <td>1864.458099</td>\n",
       "      <td>1864.458099</td>\n",
       "    </tr>\n",
       "    <tr>\n",
       "      <th>4</th>\n",
       "      <td>2018-03-24</td>\n",
       "      <td>1435.017718</td>\n",
       "      <td>-764.618077</td>\n",
       "      <td>3560.076552</td>\n",
       "      <td>1865.147018</td>\n",
       "      <td>1865.147018</td>\n",
       "      <td>1865.147018</td>\n",
       "    </tr>\n",
       "    <tr>\n",
       "      <th>...</th>\n",
       "      <td>...</td>\n",
       "      <td>...</td>\n",
       "      <td>...</td>\n",
       "      <td>...</td>\n",
       "      <td>...</td>\n",
       "      <td>...</td>\n",
       "      <td>...</td>\n",
       "    </tr>\n",
       "    <tr>\n",
       "      <th>1072</th>\n",
       "      <td>2021-02-24</td>\n",
       "      <td>954.330522</td>\n",
       "      <td>-1385.678183</td>\n",
       "      <td>3372.888624</td>\n",
       "      <td>2600.912906</td>\n",
       "      <td>1802.453006</td>\n",
       "      <td>3405.748956</td>\n",
       "    </tr>\n",
       "    <tr>\n",
       "      <th>1073</th>\n",
       "      <td>2021-02-25</td>\n",
       "      <td>1313.665270</td>\n",
       "      <td>-1135.748970</td>\n",
       "      <td>3786.430497</td>\n",
       "      <td>2601.601825</td>\n",
       "      <td>1802.251779</td>\n",
       "      <td>3406.209312</td>\n",
       "    </tr>\n",
       "    <tr>\n",
       "      <th>1074</th>\n",
       "      <td>2021-02-26</td>\n",
       "      <td>1377.351894</td>\n",
       "      <td>-1056.246002</td>\n",
       "      <td>3725.160765</td>\n",
       "      <td>2602.290745</td>\n",
       "      <td>1802.050552</td>\n",
       "      <td>3408.558843</td>\n",
       "    </tr>\n",
       "    <tr>\n",
       "      <th>1075</th>\n",
       "      <td>2021-02-27</td>\n",
       "      <td>1032.438969</td>\n",
       "      <td>-1347.440468</td>\n",
       "      <td>3353.350025</td>\n",
       "      <td>2602.979664</td>\n",
       "      <td>1801.849325</td>\n",
       "      <td>3412.028231</td>\n",
       "    </tr>\n",
       "    <tr>\n",
       "      <th>1076</th>\n",
       "      <td>2021-02-28</td>\n",
       "      <td>1192.949226</td>\n",
       "      <td>-1154.181317</td>\n",
       "      <td>3439.771936</td>\n",
       "      <td>2603.668583</td>\n",
       "      <td>1801.648099</td>\n",
       "      <td>3415.353438</td>\n",
       "    </tr>\n",
       "  </tbody>\n",
       "</table>\n",
       "<p>1077 rows × 7 columns</p>\n",
       "</div>"
      ],
      "text/plain": [
       "             ds         yhat   yhat_lower   yhat_upper        trend  \\\n",
       "0    2018-03-20  1986.827251  -185.307199  4267.039492  1862.391341   \n",
       "1    2018-03-21  1978.327733   -93.399121  4285.361914  1863.080260   \n",
       "2    2018-03-22  2898.217274   836.707201  5117.463596  1863.769179   \n",
       "3    2018-03-23  2582.277128   158.132570  4770.689500  1864.458099   \n",
       "4    2018-03-24  1435.017718  -764.618077  3560.076552  1865.147018   \n",
       "...         ...          ...          ...          ...          ...   \n",
       "1072 2021-02-24   954.330522 -1385.678183  3372.888624  2600.912906   \n",
       "1073 2021-02-25  1313.665270 -1135.748970  3786.430497  2601.601825   \n",
       "1074 2021-02-26  1377.351894 -1056.246002  3725.160765  2602.290745   \n",
       "1075 2021-02-27  1032.438969 -1347.440468  3353.350025  2602.979664   \n",
       "1076 2021-02-28  1192.949226 -1154.181317  3439.771936  2603.668583   \n",
       "\n",
       "      trend_lower  trend_upper  \n",
       "0     1862.391341  1862.391341  \n",
       "1     1863.080260  1863.080260  \n",
       "2     1863.769179  1863.769179  \n",
       "3     1864.458099  1864.458099  \n",
       "4     1865.147018  1865.147018  \n",
       "...           ...          ...  \n",
       "1072  1802.453006  3405.748956  \n",
       "1073  1802.251779  3406.209312  \n",
       "1074  1802.050552  3408.558843  \n",
       "1075  1801.849325  3412.028231  \n",
       "1076  1801.648099  3415.353438  \n",
       "\n",
       "[1077 rows x 7 columns]"
      ]
     },
     "execution_count": 78,
     "metadata": {},
     "output_type": "execute_result"
    }
   ],
   "source": [
    "forecast_data[['ds', 'yhat', 'yhat_lower', 'yhat_upper', 'trend', 'trend_lower', 'trend_upper']]"
   ]
  },
  {
   "cell_type": "code",
   "execution_count": 79,
   "id": "9d216174",
   "metadata": {},
   "outputs": [
    {
     "data": {
      "image/png": "[encoded data removed]",
      "text/plain": [
       "<Figure size 720x432 with 1 Axes>"
      ]
     },
     "metadata": {},
     "output_type": "display_data"
    }
   ],
   "source": [
    "# Visualizing the result\n",
    "plot3 = model_new.plot(forecast_data)"
   ]
  },
  {
   "cell_type": "code",
   "execution_count": 81,
   "id": "a9ee531a",
   "metadata": {},
   "outputs": [
    {
     "data": {
      "image/png": "[encoded data removed]",
      "text/plain": [
       "<Figure size 648x864 with 4 Axes>"
      ]
     },
     "metadata": {},
     "output_type": "display_data"
    }
   ],
   "source": [
    "plot4 = model_new.plot_components(forecast_data)"
   ]
  },
  {
   "cell_type": "code",
   "execution_count": 82,
   "id": "f7aae2bc",
   "metadata": {},
   "outputs": [],
   "source": [
    "# Evaluate the performance of the model\n",
    "y_actual_new = df_test_copy.y\n",
    "y_pred_new = forecast_data[-(len(df_daily)-2757):][\"yhat\"]"
   ]
  },
  {
   "cell_type": "code",
   "execution_count": 85,
   "id": "55b70e34",
   "metadata": {},
   "outputs": [
    {
     "name": "stdout",
     "output_type": "stream",
     "text": [
      "MAPE: 231.6\n"
     ]
    }
   ],
   "source": [
    "# Calculating the MAPE\n",
    "print(\"MAPE: {}\".format(mape(y_actual_new, y_pred_new)))"
   ]
  },
  {
   "cell_type": "code",
   "execution_count": 96,
   "id": "fdc3bdff",
   "metadata": {},
   "outputs": [],
   "source": [
    "# Calculating the RMSE\n",
    "rmse = round((np.sqrt(mean_squared_error(y_actual_new, y_pred_new))),2)"
   ]
  },
  {
   "cell_type": "code",
   "execution_count": 97,
   "id": "80b1a349",
   "metadata": {
    "scrolled": true
   },
   "outputs": [
    {
     "name": "stdout",
     "output_type": "stream",
     "text": [
      "RMSE: 2707.29\n"
     ]
    }
   ],
   "source": [
    "# Print print the RMSE\n",
    "print(\"RMSE: {}\".format(rmse))"
   ]
  },
  {
   "cell_type": "markdown",
   "id": "3114af05",
   "metadata": {},
   "source": [
    "# Multivariate Time Series Forecasting (Excluding Tmax feature)"
   ]
  },
  {
   "cell_type": "code",
   "execution_count": 98,
   "id": "18c1937b",
   "metadata": {},
   "outputs": [],
   "source": [
    "# Instantiate the model\n",
    "model_new2 = Prophet()"
   ]
  },
  {
   "cell_type": "code",
   "execution_count": 99,
   "id": "08d6d50f",
   "metadata": {},
   "outputs": [
    {
     "data": {
      "text/plain": [
       "<prophet.forecaster.Prophet at 0x225f4f21c40>"
      ]
     },
     "execution_count": 99,
     "metadata": {},
     "output_type": "execute_result"
    }
   ],
   "source": [
    "# Add the regressors\n",
    "model_new2.add_regressor(\"SysLoad\")\n",
    "model_new2.add_regressor(\"GasPrice\")"
   ]
  },
  {
   "cell_type": "code",
   "execution_count": 100,
   "id": "677bb4ef",
   "metadata": {},
   "outputs": [],
   "source": [
    "# Preprocess the training and test dataset\n",
    "df_train_copy.drop(\"Tmax\", axis=1, inplace=True)\n",
    "df_test_copy.drop(\"Tmax\", axis=1, inplace=True)"
   ]
  },
  {
   "cell_type": "code",
   "execution_count": 101,
   "id": "85a05432",
   "metadata": {},
   "outputs": [
    {
     "name": "stderr",
     "output_type": "stream",
     "text": [
      "INFO:prophet:Disabling daily seasonality. Run prophet with daily_seasonality=True to override this.\n"
     ]
    },
    {
     "data": {
      "text/plain": [
       "<prophet.forecaster.Prophet at 0x225f4f21c40>"
      ]
     },
     "execution_count": 101,
     "metadata": {},
     "output_type": "execute_result"
    }
   ],
   "source": [
    "# Fit the model\n",
    "model_new2.fit(df_train_copy)"
   ]
  },
  {
   "cell_type": "code",
   "execution_count": 104,
   "id": "d826a0b7",
   "metadata": {},
   "outputs": [],
   "source": [
    "# Make Prediction\n",
    "forecast2 = model_new2.predict(df_test_copy)"
   ]
  },
  {
   "cell_type": "code",
   "execution_count": 106,
   "id": "5acd1b0a",
   "metadata": {},
   "outputs": [
    {
     "name": "stdout",
     "output_type": "stream",
     "text": [
      "MAPE: 234.25\n"
     ]
    }
   ],
   "source": [
    "# Evaluate the model\n",
    "y_actual_new2 = df_test_copy.y\n",
    "y_pred_new2 = forecast2[-(len(df_daily)-2757):][\"yhat\"]\n",
    "\n",
    "print(\"MAPE: {}\".format(mape(y_actual_new2, y_pred_new2)))"
   ]
  },
  {
   "cell_type": "code",
   "execution_count": null,
   "id": "5d935fa1",
   "metadata": {},
   "outputs": [],
   "source": []
  }
 ],
 "metadata": {
  "kernelspec": {
   "display_name": "Python 3 (ipykernel)",
   "language": "python",
   "name": "python3"
  },
  "language_info": {
   "codemirror_mode": {
    "name": "ipython",
    "version": 3
   },
   "file_extension": ".py",
   "mimetype": "text/x-python",
   "name": "python",
   "nbconvert_exporter": "python",
   "pygments_lexer": "ipython3",
   "version": "3.9.7"
  }
 },
 "nbformat": 4,
 "nbformat_minor": 5
}
